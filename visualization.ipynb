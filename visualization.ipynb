{
 "cells": [
  {
   "cell_type": "code",
   "execution_count": 1,
   "id": "48b959e4",
   "metadata": {},
   "outputs": [],
   "source": [
    "import pandas as pd\n",
    "import ipywidgets as widgets\n",
    "from ipywidgets import interact\n",
    "import matplotlib.pyplot as plt\n",
    "import numpy as np\n",
    "import seaborn as sns\n",
    "from wordcloud import WordCloud, STOPWORDS\n",
    "import plotly.express as px\n",
    "plt.style.use('seaborn')"
   ]
  },
  {
   "cell_type": "code",
   "execution_count": 2,
   "id": "a40f1698",
   "metadata": {},
   "outputs": [],
   "source": [
    "all_info = pd.read_csv('all-author-info.csv')"
   ]
  },
  {
   "cell_type": "code",
   "execution_count": 3,
   "id": "01fb9a91",
   "metadata": {},
   "outputs": [
    {
     "data": {
      "text/html": [
       "<div>\n",
       "<style scoped>\n",
       "    .dataframe tbody tr th:only-of-type {\n",
       "        vertical-align: middle;\n",
       "    }\n",
       "\n",
       "    .dataframe tbody tr th {\n",
       "        vertical-align: top;\n",
       "    }\n",
       "\n",
       "    .dataframe thead th {\n",
       "        text-align: right;\n",
       "    }\n",
       "</style>\n",
       "<table border=\"1\" class=\"dataframe\">\n",
       "  <thead>\n",
       "    <tr style=\"text-align: right;\">\n",
       "      <th></th>\n",
       "      <th>name</th>\n",
       "      <th>dept</th>\n",
       "      <th>area</th>\n",
       "      <th>count</th>\n",
       "      <th>adjustedcount</th>\n",
       "      <th>year</th>\n",
       "      <th>all_pub</th>\n",
       "    </tr>\n",
       "  </thead>\n",
       "  <tbody>\n",
       "    <tr>\n",
       "      <th>0</th>\n",
       "      <td>Ming Zhang 0004</td>\n",
       "      <td>Peking University</td>\n",
       "      <td>acl</td>\n",
       "      <td>1.0</td>\n",
       "      <td>0.200000</td>\n",
       "      <td>2020</td>\n",
       "      <td>Learning to Customize Model Structures for Few...</td>\n",
       "    </tr>\n",
       "    <tr>\n",
       "      <th>1</th>\n",
       "      <td>Jong-Hyeok Lee</td>\n",
       "      <td>POSTECH</td>\n",
       "      <td>acl</td>\n",
       "      <td>1.0</td>\n",
       "      <td>0.333333</td>\n",
       "      <td>2010</td>\n",
       "      <td>Evaluating Multilanguage-Comparability of Subj...</td>\n",
       "    </tr>\n",
       "    <tr>\n",
       "      <th>2</th>\n",
       "      <td>Sam Wiseman</td>\n",
       "      <td>Duke University</td>\n",
       "      <td>acl</td>\n",
       "      <td>2.0</td>\n",
       "      <td>0.500000</td>\n",
       "      <td>2020</td>\n",
       "      <td>Discrete Latent Variable Representations for L...</td>\n",
       "    </tr>\n",
       "    <tr>\n",
       "      <th>3</th>\n",
       "      <td>Karl Stratos</td>\n",
       "      <td>Rutgers University</td>\n",
       "      <td>acl</td>\n",
       "      <td>1.0</td>\n",
       "      <td>0.250000</td>\n",
       "      <td>2020</td>\n",
       "      <td>Discrete Latent Variable Representations for L...</td>\n",
       "    </tr>\n",
       "    <tr>\n",
       "      <th>4</th>\n",
       "      <td>Karen Livescu</td>\n",
       "      <td>TTI Chicago</td>\n",
       "      <td>acl</td>\n",
       "      <td>2.0</td>\n",
       "      <td>0.500000</td>\n",
       "      <td>2020</td>\n",
       "      <td>Discrete Latent Variable Representations for L...</td>\n",
       "    </tr>\n",
       "    <tr>\n",
       "      <th>...</th>\n",
       "      <td>...</td>\n",
       "      <td>...</td>\n",
       "      <td>...</td>\n",
       "      <td>...</td>\n",
       "      <td>...</td>\n",
       "      <td>...</td>\n",
       "      <td>...</td>\n",
       "    </tr>\n",
       "    <tr>\n",
       "      <th>131040</th>\n",
       "      <td>Diodato Ferraioli</td>\n",
       "      <td>University of Salerno</td>\n",
       "      <td>wine</td>\n",
       "      <td>1.0</td>\n",
       "      <td>0.200000</td>\n",
       "      <td>2017</td>\n",
       "      <td>Information Retention in Heterogeneous Majorit...</td>\n",
       "    </tr>\n",
       "    <tr>\n",
       "      <th>131041</th>\n",
       "      <td>Clemente Galdi</td>\n",
       "      <td>University of Salerno</td>\n",
       "      <td>wine</td>\n",
       "      <td>1.0</td>\n",
       "      <td>0.200000</td>\n",
       "      <td>2017</td>\n",
       "      <td>Information Retention in Heterogeneous Majorit...</td>\n",
       "    </tr>\n",
       "    <tr>\n",
       "      <th>131042</th>\n",
       "      <td>Giuseppe Persiano</td>\n",
       "      <td>University of Salerno</td>\n",
       "      <td>wine</td>\n",
       "      <td>1.0</td>\n",
       "      <td>0.200000</td>\n",
       "      <td>2017</td>\n",
       "      <td>Information Retention in Heterogeneous Majorit...</td>\n",
       "    </tr>\n",
       "    <tr>\n",
       "      <th>131043</th>\n",
       "      <td>Avrim Blum</td>\n",
       "      <td>TTI Chicago</td>\n",
       "      <td>wine</td>\n",
       "      <td>1.0</td>\n",
       "      <td>0.333333</td>\n",
       "      <td>2015</td>\n",
       "      <td>Online Allocation and Pricing with Economies o...</td>\n",
       "    </tr>\n",
       "    <tr>\n",
       "      <th>131044</th>\n",
       "      <td>Yishay Mansour</td>\n",
       "      <td>Tel Aviv University</td>\n",
       "      <td>wine</td>\n",
       "      <td>1.0</td>\n",
       "      <td>0.333333</td>\n",
       "      <td>2015</td>\n",
       "      <td>Online Allocation and Pricing with Economies o...</td>\n",
       "    </tr>\n",
       "  </tbody>\n",
       "</table>\n",
       "<p>131045 rows × 7 columns</p>\n",
       "</div>"
      ],
      "text/plain": [
       "                     name                   dept  area  count  adjustedcount  \\\n",
       "0         Ming Zhang 0004      Peking University   acl    1.0       0.200000   \n",
       "1          Jong-Hyeok Lee                POSTECH   acl    1.0       0.333333   \n",
       "2             Sam Wiseman        Duke University   acl    2.0       0.500000   \n",
       "3            Karl Stratos     Rutgers University   acl    1.0       0.250000   \n",
       "4           Karen Livescu            TTI Chicago   acl    2.0       0.500000   \n",
       "...                   ...                    ...   ...    ...            ...   \n",
       "131040  Diodato Ferraioli  University of Salerno  wine    1.0       0.200000   \n",
       "131041     Clemente Galdi  University of Salerno  wine    1.0       0.200000   \n",
       "131042  Giuseppe Persiano  University of Salerno  wine    1.0       0.200000   \n",
       "131043         Avrim Blum            TTI Chicago  wine    1.0       0.333333   \n",
       "131044     Yishay Mansour    Tel Aviv University  wine    1.0       0.333333   \n",
       "\n",
       "        year                                            all_pub  \n",
       "0       2020  Learning to Customize Model Structures for Few...  \n",
       "1       2010  Evaluating Multilanguage-Comparability of Subj...  \n",
       "2       2020  Discrete Latent Variable Representations for L...  \n",
       "3       2020  Discrete Latent Variable Representations for L...  \n",
       "4       2020  Discrete Latent Variable Representations for L...  \n",
       "...      ...                                                ...  \n",
       "131040  2017  Information Retention in Heterogeneous Majorit...  \n",
       "131041  2017  Information Retention in Heterogeneous Majorit...  \n",
       "131042  2017  Information Retention in Heterogeneous Majorit...  \n",
       "131043  2015  Online Allocation and Pricing with Economies o...  \n",
       "131044  2015  Online Allocation and Pricing with Economies o...  \n",
       "\n",
       "[131045 rows x 7 columns]"
      ]
     },
     "execution_count": 3,
     "metadata": {},
     "output_type": "execute_result"
    }
   ],
   "source": [
    "all_info"
   ]
  },
  {
   "cell_type": "markdown",
   "id": "add3dffb",
   "metadata": {},
   "source": [
    "# Research Focus Changes With Time"
   ]
  },
  {
   "cell_type": "markdown",
   "id": "67c76617",
   "metadata": {},
   "source": [
    "## School Level Streamgraph"
   ]
  },
  {
   "cell_type": "code",
   "execution_count": 4,
   "id": "5ecdc88e",
   "metadata": {},
   "outputs": [
    {
     "data": {
      "application/vnd.jupyter.widget-view+json": {
       "model_id": "2c4e3b6d05084f57b5a948d9748a613e",
       "version_major": 2,
       "version_minor": 0
      },
      "text/plain": [
       "interactive(children=(Dropdown(description='name', options=('Peking University', 'University of Waterloo', 'Un…"
      ]
     },
     "metadata": {},
     "output_type": "display_data"
    }
   ],
   "source": [
    "def count_area_year_pub(df, year):\n",
    "    df = df.loc[df['year']==year]\n",
    "    return df.groupby('area')['count'].sum().to_dict()\n",
    "\n",
    "def get_topk_count(all_year_info, k):\n",
    "    all_area = {}\n",
    "    for year_info in all_year_info:\n",
    "        for key in year_info:\n",
    "            if key not in all_area:\n",
    "                all_area[key] = 0\n",
    "            all_area[key] += year_info[key]\n",
    "    top30_keys = [k for k, v in sorted(all_area.items(), key=lambda item: item[1], reverse=True)[:k]]\n",
    "    counts = {}\n",
    "    for key in top30_keys:\n",
    "        counts[key] = []\n",
    "        for year_info in all_year_info:\n",
    "            if key in year_info:\n",
    "                counts[key].append(year_info[key])\n",
    "            else:\n",
    "                counts[key].append(0)\n",
    "    return counts\n",
    "\n",
    "def plot_streamgraph(counts, years):\n",
    "    labels = []\n",
    "    y = []\n",
    "    for area in counts:\n",
    "        labels.append(area)\n",
    "        y.append(np.array(counts[area]))\n",
    "    fig, ax = plt.subplots(figsize=(10, 7))\n",
    "    colors = sns.color_palette(\"hls\", len(counts.keys()))\n",
    "    ax.set_prop_cycle('color', colors)\n",
    "    ax.stackplot(years, y, baseline=\"sym\", labels=labels)\n",
    "    ax.legend(loc='upper left')\n",
    "\n",
    "dept_list = [\n",
    "    'Peking University',\n",
    "    'University of Waterloo',\n",
    "    'University of Toronto',\n",
    "    'Stanford University',\n",
    "    'Tsinghua University',\n",
    "    'Massachusetts Institute of Technology',\n",
    "    'Carnegie Mellon University'\n",
    "]\n",
    "@interact\n",
    "def school(name=dept_list, topk=(1, 20, 1)):\n",
    "    school_df = all_info.loc[all_info['dept']==name]\n",
    "    year_list = list(range(2010, 2023))\n",
    "    all_year_info = []\n",
    "    for year in year_list:\n",
    "        all_year_info.append(count_area_year_pub(school_df, year))\n",
    "    counts = get_topk_count(all_year_info, topk)\n",
    "    plot_streamgraph(counts, year_list)"
   ]
  },
  {
   "cell_type": "code",
   "execution_count": 5,
   "id": "dfda2156",
   "metadata": {},
   "outputs": [
    {
     "data": {
      "application/vnd.jupyter.widget-view+json": {
       "model_id": "7567f21328d94fc1bc1cbef82c888e6c",
       "version_major": 2,
       "version_minor": 0
      },
      "text/plain": [
       "interactive(children=(Dropdown(description='name', options=('Peking University', 'University of Waterloo', 'Un…"
      ]
     },
     "metadata": {},
     "output_type": "display_data"
    }
   ],
   "source": [
    "dept_list = [\n",
    "    'Peking University',\n",
    "    'University of Waterloo',\n",
    "    'University of Toronto',\n",
    "    'Stanford University',\n",
    "    'Tsinghua University',\n",
    "    'Massachusetts Institute of Technology',\n",
    "    'Carnegie Mellon University'\n",
    "]\n",
    "area_list = [\n",
    "    'cvpr',\n",
    "    'emnlp',\n",
    "    'nips',\n",
    "    'aaai'\n",
    "]\n",
    "@interact\n",
    "def school_area(name=dept_list, area=area_list, year=(2010, 2022, 1)):\n",
    "    school_df = all_info.loc[all_info['dept']==name]\n",
    "    school_year_df = school_df.loc[school_df['year']==year]\n",
    "    school_year_area_df = school_year_df.loc[school_year_df['area']==area]\n",
    "    fig = px.pie(school_year_area_df, values='count', names='name')\n",
    "    fig.show()"
   ]
  },
  {
   "cell_type": "markdown",
   "id": "3401f417",
   "metadata": {},
   "source": [
    "## Faculty Level Streamgraph"
   ]
  },
  {
   "cell_type": "code",
   "execution_count": 6,
   "id": "10dd1caf",
   "metadata": {},
   "outputs": [
    {
     "data": {
      "application/vnd.jupyter.widget-view+json": {
       "model_id": "3c1ec5fc74ab44eaa517f3659784c593",
       "version_major": 2,
       "version_minor": 0
      },
      "text/plain": [
       "interactive(children=(Dropdown(description='name', options=('Jimmy Lin', 'Yaoliang Yu', 'Graham Neubig', 'Heng…"
      ]
     },
     "metadata": {},
     "output_type": "display_data"
    }
   ],
   "source": [
    "faculty_list = [\n",
    "    'Jimmy Lin',\n",
    "    'Yaoliang Yu',\n",
    "    'Graham Neubig',\n",
    "    'Heng Ji',\n",
    "    'Noah A. Smith',\n",
    "    'Daniel Vogel 0001'\n",
    "]\n",
    "@interact\n",
    "def faculty(name=faculty_list, topk=(1, 20, 1)):\n",
    "    faculty_df = all_info.loc[all_info['name']==name]\n",
    "    year_list = list(range(2010, 2023))\n",
    "    all_year_info = []\n",
    "    for year in year_list:\n",
    "        all_year_info.append(count_area_year_pub(faculty_df, year))\n",
    "    counts = get_topk_count(all_year_info, topk)\n",
    "    plot_streamgraph(counts, year_list)"
   ]
  },
  {
   "cell_type": "markdown",
   "id": "7150423b",
   "metadata": {},
   "source": [
    "## Faculty Level Word Cloud"
   ]
  },
  {
   "cell_type": "code",
   "execution_count": 7,
   "id": "49ef406c",
   "metadata": {},
   "outputs": [
    {
     "data": {
      "application/vnd.jupyter.widget-view+json": {
       "model_id": "0b531af4f45b48828417a89511970b86",
       "version_major": 2,
       "version_minor": 0
      },
      "text/plain": [
       "interactive(children=(Dropdown(description='name', options=('Jimmy Lin', 'Yaoliang Yu', 'Graham Neubig', 'Heng…"
      ]
     },
     "metadata": {},
     "output_type": "display_data"
    }
   ],
   "source": [
    "def word_cloud(df, year):\n",
    "    df_year = df.loc[df['year']==year]\n",
    "    all_titles = []\n",
    "    for _, info in df_year.iterrows():\n",
    "        all_titles.append(info['all_pub'])\n",
    "    text = \" \".join(all_titles).lower()\n",
    "    stopwords = set(STOPWORDS)\n",
    "    wordcloud = WordCloud(width = 800, height = 800,\n",
    "                background_color ='white',\n",
    "                stopwords = stopwords,\n",
    "                min_font_size = 10).generate(text)\n",
    "    plt.figure(figsize = (5, 5), facecolor = None)\n",
    "    plt.imshow(wordcloud)\n",
    "    plt.axis(\"off\")\n",
    "    plt.tight_layout(pad = 0)\n",
    "    plt.show()\n",
    "    print(all_titles)\n",
    "    \n",
    "@interact\n",
    "def faculty_word_cloud(name=faculty_list, year=(2010, 2022, 1)):\n",
    "    faculty_df = all_info.loc[all_info['name']==name]\n",
    "    return word_cloud(faculty_df, year)"
   ]
  },
  {
   "cell_type": "code",
   "execution_count": null,
   "id": "c148c9df",
   "metadata": {},
   "outputs": [],
   "source": []
  }
 ],
 "metadata": {
  "kernelspec": {
   "display_name": "Python 3 (ipykernel)",
   "language": "python",
   "name": "python3"
  },
  "language_info": {
   "codemirror_mode": {
    "name": "ipython",
    "version": 3
   },
   "file_extension": ".py",
   "mimetype": "text/x-python",
   "name": "python",
   "nbconvert_exporter": "python",
   "pygments_lexer": "ipython3",
   "version": "3.9.7"
  }
 },
 "nbformat": 4,
 "nbformat_minor": 5
}
